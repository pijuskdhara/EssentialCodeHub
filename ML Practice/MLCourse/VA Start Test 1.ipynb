{
 "cells": [
  {
   "cell_type": "code",
   "execution_count": null,
   "metadata": {},
   "outputs": [
    {
     "name": "stdout",
     "output_type": "stream",
     "text": [
      "tell me a joke\n",
      "tell me a joke\n",
      "tell me a joke\n",
      "tell me a joke\n",
      "tell me a joke\n",
      "tell me a joke\n"
     ]
    },
    {
     "name": "stderr",
     "output_type": "stream",
     "text": [
      "Exception ignored in: <function BSTR.__del__ at 0x000001D5EE89B700>\n",
      "Traceback (most recent call last):\n",
      "  File \"C:\\Users\\PKD\\anaconda3\\lib\\site-packages\\comtypes\\__init__.py\", line 1005, in __del__\n",
      "    def __del__(self, _free=windll.oleaut32.SysFreeString):\n",
      "KeyboardInterrupt: \n"
     ]
    },
    {
     "name": "stdout",
     "output_type": "stream",
     "text": [
      "tell me a joke\n"
     ]
    },
    {
     "name": "stderr",
     "output_type": "stream",
     "text": [
      "Exception ignored in: <function BSTR.__del__ at 0x000001D5EE89B700>\n",
      "Traceback (most recent call last):\n",
      "  File \"C:\\Users\\PKD\\anaconda3\\lib\\site-packages\\comtypes\\__init__.py\", line 1005, in __del__\n",
      "    def __del__(self, _free=windll.oleaut32.SysFreeString):\n",
      "KeyboardInterrupt: \n"
     ]
    },
    {
     "name": "stdout",
     "output_type": "stream",
     "text": [
      "tell me a joke\n"
     ]
    }
   ],
   "source": [
    "import speech_recognition as sr\n",
    "import pyttsx3\n",
    "import pywhatkit\n",
    "import datetime\n",
    "import wikipedia\n",
    "import pyjokes\n",
    "\n",
    "listener = sr.Recognizer()\n",
    "engine = pyttsx3.init()\n",
    "voices = engine.getProperty('voices')\n",
    "engine.setProperty('voice', voices[1].id)\n",
    "\n",
    "\n",
    "def talk(text):\n",
    "    engine.say(text)\n",
    "    engine.runAndWait()\n",
    "\n",
    "\n",
    "def take_command():\n",
    "    \n",
    "    try:\n",
    "        with sr.Microphone() as source:\n",
    "            print('listening...')\n",
    "            voice = listener.listen(source)\n",
    "            command = listener.recognize_google(voice)\n",
    "            command = command.lower()\n",
    "            if 'alexa' in command:\n",
    "                command = command.replace('alexa', '')\n",
    "                print(command)\n",
    "                return command\n",
    "    except error:\n",
    "        print(error)\n",
    "        pass\n",
    "    return ''\n",
    "\n",
    "def dummy_command():\n",
    "    return \"tell me a joke\"\n",
    "\n",
    "def run_alexa():\n",
    "    command = dummy_command()\n",
    "    \n",
    "    print(command)\n",
    "    if 'play' in command:\n",
    "        song = command.replace('play', '')\n",
    "        talk('playing ' + song)\n",
    "        pywhatkit.playonyt(song)\n",
    "    elif 'time' in command:\n",
    "        time = datetime.datetime.now().strftime('%I:%M %p')\n",
    "        talk('Current time is ' + time)\n",
    "    elif 'who the heck is' in command:\n",
    "        person = command.replace('who the heck is', '')\n",
    "        info = wikipedia.summary(person, 1)\n",
    "        print(info)\n",
    "        talk(info)\n",
    "    elif 'date' in command:\n",
    "        talk('sorry, I have a headache')\n",
    "    elif 'are you single' in command:\n",
    "        talk('I am in a relationship with wifi')\n",
    "    elif 'joke' in command:\n",
    "        talk(pyjokes.get_joke())\n",
    "    else:\n",
    "        talk('Please say the command again.')\n",
    "\n",
    "while True:\n",
    "    run_alexa();\n"
   ]
  },
  {
   "cell_type": "code",
   "execution_count": null,
   "metadata": {},
   "outputs": [],
   "source": []
  },
  {
   "cell_type": "code",
   "execution_count": null,
   "metadata": {},
   "outputs": [],
   "source": [
    "alexa"
   ]
  },
  {
   "cell_type": "code",
   "execution_count": null,
   "metadata": {},
   "outputs": [],
   "source": []
  },
  {
   "cell_type": "code",
   "execution_count": null,
   "metadata": {},
   "outputs": [],
   "source": []
  },
  {
   "cell_type": "code",
   "execution_count": null,
   "metadata": {},
   "outputs": [],
   "source": []
  },
  {
   "cell_type": "code",
   "execution_count": null,
   "metadata": {},
   "outputs": [],
   "source": [
    "kjhk\n",
    "\n"
   ]
  },
  {
   "cell_type": "code",
   "execution_count": null,
   "metadata": {},
   "outputs": [],
   "source": []
  },
  {
   "cell_type": "code",
   "execution_count": null,
   "metadata": {},
   "outputs": [],
   "source": []
  },
  {
   "cell_type": "code",
   "execution_count": null,
   "metadata": {},
   "outputs": [],
   "source": []
  },
  {
   "cell_type": "code",
   "execution_count": null,
   "metadata": {},
   "outputs": [],
   "source": []
  },
  {
   "cell_type": "code",
   "execution_count": null,
   "metadata": {},
   "outputs": [],
   "source": []
  }
 ],
 "metadata": {
  "kernelspec": {
   "display_name": "Python 3",
   "language": "python",
   "name": "python3"
  },
  "language_info": {
   "codemirror_mode": {
    "name": "ipython",
    "version": 3
   },
   "file_extension": ".py",
   "mimetype": "text/x-python",
   "name": "python",
   "nbconvert_exporter": "python",
   "pygments_lexer": "ipython3",
   "version": "3.8.5"
  }
 },
 "nbformat": 4,
 "nbformat_minor": 4
}
