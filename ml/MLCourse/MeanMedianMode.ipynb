{
 "cells": [
  {
   "cell_type": "markdown",
   "metadata": {},
   "source": [
    "# Mean, Median, Mode, and introducing NumPy"
   ]
  },
  {
   "cell_type": "markdown",
   "metadata": {},
   "source": [
    "## Mean vs. Median"
   ]
  },
  {
   "cell_type": "markdown",
   "metadata": {},
   "source": [
    "Let's create some fake income data, centered around 27,000 with a normal distribution and standard deviation of 15,000, with 10,000 data points. (We'll discuss those terms more later, if you're not familiar with them.)\n",
    "\n",
    "Then, compute the mean (average) - it should be close to 27,000:"
   ]
  },
  {
   "cell_type": "code",
   "execution_count": 2,
   "metadata": {},
   "outputs": [
    {
     "data": {
      "text/plain": [
       "27155.77393865311"
      ]
     },
     "execution_count": 2,
     "metadata": {},
     "output_type": "execute_result"
    }
   ],
   "source": [
    "import numpy as np\n",
    "\n",
    "incomes = np.random.normal(27000, 15000, 10000)\n",
    "np.mean(incomes)"
   ]
  },
  {
   "cell_type": "markdown",
   "metadata": {},
   "source": [
    "We can segment the income data into 50 buckets, and plot it as a histogram:"
   ]
  },
  {
   "cell_type": "code",
   "execution_count": 3,
   "metadata": {},
   "outputs": [
    {
     "data": {
      "image/png": "[encoded data removed]",
      "text/plain": [
       "<Figure size 432x288 with 1 Axes>"
      ]
     },
     "metadata": {
      "needs_background": "light"
     },
     "output_type": "display_data"
    }
   ],
   "source": [
    "%matplotlib inline\n",
    "import matplotlib.pyplot as plt\n",
    "plt.hist(incomes, 50)\n",
    "plt.show()"
   ]
  },
  {
   "cell_type": "markdown",
   "metadata": {},
   "source": [
    "Now compute the median - since we have a nice, even distribution it too should be close to 27,000:"
   ]
  },
  {
   "cell_type": "code",
   "execution_count": 4,
   "metadata": {},
   "outputs": [
    {
     "data": {
      "text/plain": [
       "27155.69136265244"
      ]
     },
     "execution_count": 4,
     "metadata": {},
     "output_type": "execute_result"
    }
   ],
   "source": [
    "np.median(incomes)"
   ]
  },
  {
   "cell_type": "markdown",
   "metadata": {},
   "source": [
    "Now we'll add Jeff Bezos into the mix. Darn income inequality!"
   ]
  },
  {
   "cell_type": "code",
   "execution_count": 5,
   "metadata": {},
   "outputs": [],
   "source": [
    "incomes = np.append(incomes, [1000000000])"
   ]
  },
  {
   "cell_type": "markdown",
   "metadata": {},
   "source": [
    "The median won't change much, but the mean does:"
   ]
  },
  {
   "cell_type": "code",
   "execution_count": 6,
   "metadata": {},
   "outputs": [
    {
     "data": {
      "text/plain": [
       "27156.468123065017"
      ]
     },
     "execution_count": 6,
     "metadata": {},
     "output_type": "execute_result"
    }
   ],
   "source": [
    "np.median(incomes)"
   ]
  },
  {
   "cell_type": "code",
   "execution_count": 7,
   "metadata": {},
   "outputs": [
    {
     "data": {
      "text/plain": [
       "127143.05963268984"
      ]
     },
     "execution_count": 7,
     "metadata": {},
     "output_type": "execute_result"
    }
   ],
   "source": [
    "np.mean(incomes)"
   ]
  },
  {
   "cell_type": "markdown",
   "metadata": {},
   "source": [
    "## Mode"
   ]
  },
  {
   "cell_type": "markdown",
   "metadata": {},
   "source": [
    "Next, let's generate some fake age data for 500 people:"
   ]
  },
  {
   "cell_type": "code",
   "execution_count": 8,
   "metadata": {},
   "outputs": [
    {
     "data": {
      "text/plain": [
       "array([82, 80, 41, 38, 62, 79, 30, 29, 87, 34, 48, 53, 52, 68, 79, 77, 88,\n",
       "       43, 73, 24, 85, 63, 37, 73, 46, 64, 79, 81, 67, 56, 19, 74, 85, 73,\n",
       "       84, 52, 44, 18, 88, 59, 89, 72, 86, 44, 48, 80, 87, 88, 52, 57, 69,\n",
       "       77, 83, 57, 79, 59, 70, 32, 82, 39, 35, 53, 62, 41, 61, 49, 19, 43,\n",
       "       72, 47, 50, 76, 38, 37, 52, 40, 60, 22, 86, 35, 51, 31, 52, 78, 23,\n",
       "       71, 70, 45, 46, 46, 30, 65, 19, 29, 81, 78, 31, 37, 85, 85, 46, 80,\n",
       "       66, 47, 50, 61, 18, 37, 18, 51, 41, 46, 52, 32, 47, 78, 81, 45, 54,\n",
       "       36, 80, 32, 84, 42, 61, 49, 38, 22, 85, 53, 82, 87, 89, 49, 66, 59,\n",
       "       79, 38, 73, 86, 56, 63, 89, 67, 79, 65, 79, 68, 87, 50, 37, 73, 44,\n",
       "       76, 62, 84, 43, 27, 24, 76, 50, 43, 58, 29, 38, 30, 34, 53, 81, 63,\n",
       "       65, 33, 82, 80, 85, 73, 85, 88, 81, 45, 76, 20, 29, 25, 76, 72, 25,\n",
       "       35, 50, 64, 80, 48, 24, 85, 70, 64, 48, 84, 61, 73, 75, 32, 61, 52,\n",
       "       30, 82, 78, 56, 46, 68, 19, 19, 45, 78, 48, 27, 23, 83, 49, 34, 33,\n",
       "       83, 53, 70, 52, 24, 81, 65, 30, 57, 71, 62, 32, 20, 46, 73, 84, 60,\n",
       "       30, 19, 31, 29, 58, 68, 53, 18, 39, 68, 81, 63, 25, 88, 72, 83, 48,\n",
       "       68, 34, 47, 47, 51, 36, 55, 23, 40, 87, 28, 35, 20, 72, 83, 47, 60,\n",
       "       64, 32, 18, 75, 62, 80, 54, 41, 59, 19, 37, 78, 45, 35, 39, 36, 77,\n",
       "       77, 22, 20, 84, 71, 79, 64, 59, 63, 19, 88, 41, 60, 82, 85, 63, 56,\n",
       "       51, 27, 67, 71, 36, 52, 63, 81, 57, 33, 62, 29, 89, 25, 69, 39, 21,\n",
       "       53, 39, 79, 72, 77, 34, 41, 34, 27, 56, 27, 30, 82, 40, 35, 44, 81,\n",
       "       88, 31, 22, 80, 32, 54, 39, 33, 29, 29, 80, 58, 63, 19, 85, 41, 47,\n",
       "       44, 28, 74, 55, 20, 72, 21, 41, 70, 83, 67, 33, 35, 87, 69, 47, 80,\n",
       "       57, 73, 79, 31, 51, 50, 63, 66, 81, 37, 63, 88, 50, 89, 36, 52, 38,\n",
       "       64, 69, 27, 81, 26, 22, 89, 41, 24, 85, 54, 51, 49, 38, 80, 71, 73,\n",
       "       24, 78, 21, 89, 61, 57, 86, 33, 47, 61, 66, 80, 55, 38, 55, 25, 56,\n",
       "       33, 40, 33, 24, 89, 63, 22, 36, 87, 84, 60, 60, 22, 27, 20, 29, 42,\n",
       "       23, 46, 61, 51, 40, 73, 21, 78, 77, 42, 52, 87, 68, 47, 36, 88, 63,\n",
       "       74, 26, 21, 28, 86, 26, 38, 25, 61, 81, 89, 79, 39, 81, 66, 62, 84,\n",
       "       49, 52, 50, 83, 45, 73, 41, 72, 44, 60, 26, 43, 19, 74, 42, 43, 31,\n",
       "       59, 84, 59, 54, 42, 42, 53])"
      ]
     },
     "execution_count": 8,
     "metadata": {},
     "output_type": "execute_result"
    }
   ],
   "source": [
    "ages = np.random.randint(18, high=90, size=500)\n",
    "ages"
   ]
  },
  {
   "cell_type": "code",
   "execution_count": 10,
   "metadata": {},
   "outputs": [
    {
     "data": {
      "text/plain": [
       "ModeResult(mode=array([81]), count=array([13]))"
      ]
     },
     "execution_count": 10,
     "metadata": {},
     "output_type": "execute_result"
    }
   ],
   "source": [
    "from scipy import stats\n",
    "stats.mode(ages)"
   ]
  },
  {
   "cell_type": "code",
   "execution_count": null,
   "metadata": {},
   "outputs": [],
   "source": []
  }
 ],
 "metadata": {
  "kernelspec": {
   "display_name": "Python 3",
   "language": "python",
   "name": "python3"
  },
  "language_info": {
   "codemirror_mode": {
    "name": "ipython",
    "version": 3
   },
   "file_extension": ".py",
   "mimetype": "text/x-python",
   "name": "python",
   "nbconvert_exporter": "python",
   "pygments_lexer": "ipython3",
   "version": "3.8.5"
  }
 },
 "nbformat": 4,
 "nbformat_minor": 1
}
