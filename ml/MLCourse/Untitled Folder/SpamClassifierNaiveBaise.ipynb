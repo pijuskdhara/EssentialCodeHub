{
 "cells": [
  {
   "cell_type": "code",
   "execution_count": 12,
   "metadata": {},
   "outputs": [
    {
     "data": {
      "text/html": [
       "<div>\n",
       "<style scoped>\n",
       "    .dataframe tbody tr th:only-of-type {\n",
       "        vertical-align: middle;\n",
       "    }\n",
       "\n",
       "    .dataframe tbody tr th {\n",
       "        vertical-align: top;\n",
       "    }\n",
       "\n",
       "    .dataframe thead th {\n",
       "        text-align: right;\n",
       "    }\n",
       "</style>\n",
       "<table border=\"1\" class=\"dataframe\">\n",
       "  <thead>\n",
       "    <tr style=\"text-align: right;\">\n",
       "      <th></th>\n",
       "      <th>message</th>\n",
       "      <th>class</th>\n",
       "    </tr>\n",
       "  </thead>\n",
       "  <tbody>\n",
       "    <tr>\n",
       "      <th>00001.7848dde101aa985090474a91ec93fcf0</th>\n",
       "      <td>From 12a1mailbot1@web.de  Thu Aug 22 13:17:22 ...</td>\n",
       "      <td>spam</td>\n",
       "    </tr>\n",
       "    <tr>\n",
       "      <th>00002.d94f1b97e48ed3b553b3508d116e6a09</th>\n",
       "      <td>From ilug-admin@linux.ie  Thu Aug 22 13:27:39 ...</td>\n",
       "      <td>spam</td>\n",
       "    </tr>\n",
       "    <tr>\n",
       "      <th>00003.2ee33bc6eacdb11f38d052c44819ba6c</th>\n",
       "      <td>From sabrina@mx3.1premio.com  Thu Aug 22 14:44...</td>\n",
       "      <td>spam</td>\n",
       "    </tr>\n",
       "    <tr>\n",
       "      <th>00004.eac8de8d759b7e74154f142194282724</th>\n",
       "      <td>From wsup@playful.com  Thu Aug 22 16:17:00 200...</td>\n",
       "      <td>spam</td>\n",
       "    </tr>\n",
       "    <tr>\n",
       "      <th>00005.57696a39d7d84318ce497886896bf90d</th>\n",
       "      <td>From social-admin@linux.ie  Thu Aug 22 16:37:3...</td>\n",
       "      <td>spam</td>\n",
       "    </tr>\n",
       "  </tbody>\n",
       "</table>\n",
       "</div>"
      ],
      "text/plain": [
       "                                                                                  message  \\\n",
       "00001.7848dde101aa985090474a91ec93fcf0  From 12a1mailbot1@web.de  Thu Aug 22 13:17:22 ...   \n",
       "00002.d94f1b97e48ed3b553b3508d116e6a09  From ilug-admin@linux.ie  Thu Aug 22 13:27:39 ...   \n",
       "00003.2ee33bc6eacdb11f38d052c44819ba6c  From sabrina@mx3.1premio.com  Thu Aug 22 14:44...   \n",
       "00004.eac8de8d759b7e74154f142194282724  From wsup@playful.com  Thu Aug 22 16:17:00 200...   \n",
       "00005.57696a39d7d84318ce497886896bf90d  From social-admin@linux.ie  Thu Aug 22 16:37:3...   \n",
       "\n",
       "                                       class  \n",
       "00001.7848dde101aa985090474a91ec93fcf0  spam  \n",
       "00002.d94f1b97e48ed3b553b3508d116e6a09  spam  \n",
       "00003.2ee33bc6eacdb11f38d052c44819ba6c  spam  \n",
       "00004.eac8de8d759b7e74154f142194282724  spam  \n",
       "00005.57696a39d7d84318ce497886896bf90d  spam  "
      ]
     },
     "execution_count": 12,
     "metadata": {},
     "output_type": "execute_result"
    }
   ],
   "source": [
    "import os\n",
    "import io\n",
    "import numpy\n",
    "from pandas import DataFrame\n",
    "from sklearn.feature_extraction.text import CountVectorizer\n",
    "from sklearn.naive_bayes import MultinomialNB\n",
    "\n",
    "#read files in a directory\n",
    "#return message body and filename of each\n",
    "def readFiles(path):\n",
    "    for root, dirnames, filenames in os.walk(path):\n",
    "        #print('root'+root)\n",
    "        #print('dir names'+str(dirnames))\n",
    "        #print('filenames'+str(filenames))\n",
    "        \n",
    "        #get the message\n",
    "        for fname in filenames:\n",
    "            path = os.path.join(root,fname)\n",
    "            \n",
    "            f = io.open(path,'r', encoding='latin1')\n",
    "            lines = []\n",
    "            for line in f:\n",
    "                lines.append(line)\n",
    "            \n",
    "            message = '\\n'.join(lines)\n",
    "            \n",
    "            yield fname, message\n",
    "\n",
    "#create dataframe with class and message            \n",
    "def dataFrameFromDir(path,classfication):\n",
    "    rows = []\n",
    "    indx = []\n",
    "    for fname, msg in readFiles(path):\n",
    "        rows.append({'message': msg, 'class': classfication})\n",
    "        indx.append(fname)\n",
    "        \n",
    "    return DataFrame(rows,index=indx)\n",
    "    \n",
    "data = DataFrame({'message': [], 'class': []})\n",
    "data = data.append(dataFrameFromDir('C:\\\\Users\\PIJUS\\Documents\\ml\\MLCourse\\MLCourse\\emails\\spam','spam'))\n",
    "data = data.append(dataFrameFromDir('C:\\\\Users\\PIJUS\\Documents\\ml\\MLCourse\\MLCourse\\emails\\ham','ham'))\n",
    "\n",
    "#readFiles('C:\\\\Users\\PIJUS\\Documents\\ml\\MLCourse\\MLCourse\\emails\\spam')\n",
    "data.head()"
   ]
  },
  {
   "cell_type": "code",
   "execution_count": 16,
   "metadata": {},
   "outputs": [
    {
     "data": {
      "text/plain": [
       "MultinomialNB()"
      ]
     },
     "execution_count": 16,
     "metadata": {},
     "output_type": "execute_result"
    }
   ],
   "source": [
    "vectorizer = CountVectorizer() \n",
    "counts = vectorizer.fit_transform(data['message'].values)\n",
    "\n",
    "classifier = MultinomialNB()\n",
    "targets = data['class'].values\n",
    "classifier.fit(counts, targets)"
   ]
  },
  {
   "cell_type": "code",
   "execution_count": 17,
   "metadata": {},
   "outputs": [
    {
     "data": {
      "text/plain": [
       "array(['spam', 'ham'], dtype='<U4')"
      ]
     },
     "execution_count": 17,
     "metadata": {},
     "output_type": "execute_result"
    }
   ],
   "source": [
    "examples = ['Free Viagra now!!!', \"Hi Bob, how about a game of golf tomorrow?\"]\n",
    "example_counts = vectorizer.transform(examples)\n",
    "predictions = classifier.predict(example_counts)\n",
    "predictions"
   ]
  },
  {
   "cell_type": "code",
   "execution_count": null,
   "metadata": {},
   "outputs": [],
   "source": []
  }
 ],
 "metadata": {
  "kernelspec": {
   "display_name": "Python 3",
   "language": "python",
   "name": "python3"
  },
  "language_info": {
   "codemirror_mode": {
    "name": "ipython",
    "version": 3
   },
   "file_extension": ".py",
   "mimetype": "text/x-python",
   "name": "python",
   "nbconvert_exporter": "python",
   "pygments_lexer": "ipython3",
   "version": "3.8.5"
  }
 },
 "nbformat": 4,
 "nbformat_minor": 4
}
